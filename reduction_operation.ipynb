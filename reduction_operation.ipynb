{
  "nbformat": 4,
  "nbformat_minor": 0,
  "metadata": {
    "colab": {
      "provenance": [],
      "toc_visible": true,
      "authorship_tag": "ABX9TyOgDG/dFdvHXcTBRbWfc/jd",
      "include_colab_link": true
    },
    "kernelspec": {
      "name": "python3",
      "display_name": "Python 3"
    },
    "language_info": {
      "name": "python"
    }
  },
  "cells": [
    {
      "cell_type": "markdown",
      "metadata": {
        "id": "view-in-github",
        "colab_type": "text"
      },
      "source": [
        "<a href=\"https://colab.research.google.com/github/aw-junaid/Neural-Network-and-Machine-Learning/blob/main/reduction_operation.ipynb\" target=\"_parent\"><img src=\"https://colab.research.google.com/assets/colab-badge.svg\" alt=\"Open In Colab\"/></a>"
      ]
    },
    {
      "cell_type": "code",
      "execution_count": null,
      "metadata": {
        "colab": {
          "base_uri": "https://localhost:8080/"
        },
        "id": "y1PidKL-_Rwb",
        "outputId": "f67e7073-9df2-4309-c6b7-676f81017755"
      },
      "outputs": [
        {
          "output_type": "stream",
          "name": "stdout",
          "text": [
            "[ 6  6 -6]\n"
          ]
        }
      ],
      "source": [
        "import tensorflow as tf\n",
        "\n",
        "# Create a constant tensor 'x' with integer values\n",
        "x = tf.constant([[1, 2, 3],[3, 2, 1],[-1,-2,-3]])\n",
        "\n",
        "# Create a constant tensor 'boolean_tensor' with boolean values\n",
        "boolean_tensor = tf.constant([[True, False, True],\n",
        "                              [False, False, True],\n",
        "                              [True, False, False]])\n",
        "\n",
        "# Calculate the product of elements along axis 1 in 'x'\n",
        "product_result = tf.reduce_prod(x, axis=1).numpy()\n",
        "\n",
        "print(product_result)\n"
      ]
    }
  ]
}